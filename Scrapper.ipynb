{
 "cells": [
  {
   "cell_type": "code",
   "execution_count": null,
   "metadata": {},
   "outputs": [],
   "source": [
    "import selenium\n",
    "from selenium import webdriver as wb\n",
    "\n",
    "webD=wb.Chrome(executable_path=r\"<path_to_chromedriver.exe>\")\n",
    "webD.get('<website_to_scrap>')"
   ]
  },
  {
   "cell_type": "code",
   "execution_count": null,
   "metadata": {},
   "outputs": [],
   "source": [
    "clickObj=webD.find_element_by_xpath('//*[@id=\"AccessibleNav\"]/li[2]/a')"
   ]
  },
  {
   "cell_type": "code",
   "execution_count": null,
   "metadata": {},
   "outputs": [],
   "source": [
    "clickObj.click()"
   ]
  },
  {
   "cell_type": "code",
   "execution_count": null,
   "metadata": {},
   "outputs": [],
   "source": [
    "productlinks=[]\n",
    "condition=True\n",
    "while condition:\n",
    "    productlist=webD.find_elements_by_class_name('product-meta')\n",
    "    for el in productlist:\n",
    "        ppp1=el.find_elements_by_tag_name('h4')[-1]\n",
    "        pp2=ppp1.find_element_by_tag_name('a')\n",
    "        productlinks.append(pp2.get_property('href'))\n",
    "    try:\n",
    "         webD.find_elements_by_class_name('next')[0].click()\n",
    "            \n",
    "    except:\n",
    "        condition=False\n"
   ]
  },
  {
   "cell_type": "code",
   "execution_count": null,
   "metadata": {},
   "outputs": [],
   "source": [
    "len(productlinks)"
   ]
  },
  {
   "cell_type": "code",
   "execution_count": null,
   "metadata": {},
   "outputs": [],
   "source": [
    "from tqdm import tqdm\n",
    "details=[]\n",
    "for i in tqdm(productlinks):\n",
    "    webD.get(i)\n",
    "    item_name = webD.find_element_by_xpath('//*[@id=\"PageContainer\"]/main/div/div[1]/div[2]/h1').text\n",
    "    item_desc1 = webD.find_element_by_xpath('//*[@id=\"PageContainer\"]/main/div/div[2]/div').text\n",
    "    item_category_1 = webD.find_element_by_xpath('//*[@id=\"PageContainer\"]/main/div/div[1]/div[2]/div[3]/a[1]').text\n",
    "\n",
    "    item_type = webD.find_element_by_xpath('//*[@id=\"AddToCartForm\"]/div[2]/p[2]/span').text\n",
    "    \n",
    "    if not item_name: name = \"None\"\n",
    "    else: name = item_name\n",
    "        \n",
    "    if not item_desc1: name = \"None\"\n",
    "    else: name = item_desc1\n",
    "        \n",
    "    if not item_category_1: name = \"None\"\n",
    "    else: name = item_category_1\n",
    "\n",
    "        \n",
    "    if not item_type: name = \"None\"\n",
    "    else: name = item_type\n",
    "        \n",
    "    tempJ={'item_name':item_name,\n",
    "      'item_desc1':item_desc1,\n",
    "      \n",
    "      'item_category_1':item_category_1,\n",
    "      'item_category_2':item_category_2,\n",
    "      'linkofProduct':i}\n",
    "    details.append(tempJ)\n",
    "    "
   ]
  },
  {
   "cell_type": "code",
   "execution_count": null,
   "metadata": {},
   "outputs": [],
   "source": [
    "import pandas as pd\n",
    "df = pd.DataFrame(details)\n",
    "df"
   ]
  },
  {
   "cell_type": "code",
   "execution_count": null,
   "metadata": {},
   "outputs": [],
   "source": [
    "df.to_csv('grocery_data.csv')"
   ]
  },
  {
   "cell_type": "code",
   "execution_count": null,
   "metadata": {},
   "outputs": [],
   "source": []
  }
 ],
 "metadata": {
  "kernelspec": {
   "display_name": "Python 3",
   "language": "python",
   "name": "python3"
  },
  "language_info": {
   "codemirror_mode": {
    "name": "ipython",
    "version": 3
   },
   "file_extension": ".py",
   "mimetype": "text/x-python",
   "name": "python",
   "nbconvert_exporter": "python",
   "pygments_lexer": "ipython3",
   "version": "3.7.6"
  }
 },
 "nbformat": 4,
 "nbformat_minor": 4
}
